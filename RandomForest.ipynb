{
 "cells": [
  {
   "cell_type": "code",
   "execution_count": 216,
   "metadata": {},
   "outputs": [],
   "source": [
    "import random\n",
    "\n",
    "\n",
    "def randomize(alist):\n",
    "    \"\"\"\n",
    "    shuffle the list elements\n",
    "    :param1 alist: list of examples\n",
    "    :return: shuffles list\n",
    "    \"\"\"\n",
    "    return random.shuffle(alist)\n",
    "\n",
    "#split list into two, return \n",
    "def partition(alist, fraction):\n",
    "    \"\"\"\n",
    "    partition the list at a specific point into training and test lists\n",
    "    :param1 alist: list of examples\n",
    "    :param1 fraction: the fraction to split\n",
    "    :return: a list containint two lists, one training data, one test data\n",
    "    \"\"\"\n",
    "    biglist = []\n",
    "    trainlist = []\n",
    "    testlist = []\n",
    "\n",
    "    #split at this number\n",
    "    split_at = fraction * len(alist)\n",
    "    \n",
    "    for i in range(len(alist)):\n",
    "        if i < split_at:\n",
    "            trainlist.append(alist[i])\n",
    "        else:\n",
    "            testlist.append(alist[i])\n",
    "    \n",
    "    biglist.append(trainlist)\n",
    "    biglist.append(testlist)\n",
    "    return biglist\n",
    "\n",
    "    \n"
   ]
  },
  {
   "cell_type": "code",
   "execution_count": 217,
   "metadata": {},
   "outputs": [],
   "source": [
    "import csv \n",
    "with open('titanic-train.csv', newline='') as csvfile:\n",
    "    csvreader = csv.reader(csvfile, delimiter=' ', quotechar='|')\n",
    "    csvreader = list(csvreader)\n",
    "    Data = [];\n",
    "    label_list = []\n",
    "    train_labels = []\n",
    "    test_labels = []\n",
    "    for i in range(len(csvreader)):\n",
    "        if i == 0:\n",
    "            first_line = csvreader[i][0].split(',')\n",
    "            continue\n",
    "        else:\n",
    "            #set example\n",
    "            Sample = csvreader[i][0].split(',')\n",
    "            \n",
    "            #iterate example, convert feature to ints\n",
    "            for i in range(len(Sample)):\n",
    "                Sample[i] = float(Sample[i])\n",
    "            \n",
    "            #Add example(arraylist) with int features to data\n",
    "            Data.append(Sample.copy())"
   ]
  },
  {
   "cell_type": "code",
   "execution_count": 218,
   "metadata": {},
   "outputs": [],
   "source": [
    "import random\n",
    "from sklearn.ensemble import RandomForestClassifier\n",
    "clf = RandomForestClassifier(random_state=0)\n",
    "\n",
    "#randomize\n",
    "randomData = random.sample(Data, len(Data))   \n",
    "\n",
    "fraction = .80\n",
    "#partition for train and test\n",
    "Biglist = partition(randomData, fraction)\n",
    "\n",
    "#create a label_list with two elements: train_labels(list) and test_labels(list)\n",
    "for setidx in range(len(Biglist)):\n",
    "    for Sample in Biglist[setidx]:\n",
    "        if setidx == 0:\n",
    "            #pop label out of example, convert  to int\n",
    "            label_of_sample = Sample.pop()\n",
    "            label_of_sample = float(label_of_sample)\n",
    "            \n",
    "            #add label to labellist\n",
    "            train_labels.append(label_of_sample)\n",
    "        else:\n",
    "            #pop label out of example, convert  to int\n",
    "            label_of_sample = Sample.pop()\n",
    "            label_of_sample = float(label_of_sample)\n",
    "            \n",
    "            #add label to labellist\n",
    "            test_labels.append(label_of_sample)\n",
    "label_list.append(train_labels)\n",
    "label_list.append(test_labels)\n"
   ]
  },
  {
   "cell_type": "code",
   "execution_count": 219,
   "metadata": {},
   "outputs": [
    {
     "data": {
      "text/plain": [
       "0.7746478873239436"
      ]
     },
     "execution_count": 219,
     "metadata": {},
     "output_type": "execute_result"
    }
   ],
   "source": [
    "#train with the train set\n",
    "clf.fit(Biglist[0],label_list[0])\n",
    "\n",
    "#predict the test dataset examples' labels\n",
    "prediction_arr = clf.predict(Biglist[1]) \n",
    "\n",
    "\n",
    "#calculate average accuracy\n",
    "sum(1 for x,y in zip(prediction_arr,label_list[1]) if x == y) / len(prediction_arr)"
   ]
  }
 ],
 "metadata": {
  "kernelspec": {
   "display_name": "Python 3.9.6 64-bit",
   "language": "python",
   "name": "python3"
  },
  "language_info": {
   "codemirror_mode": {
    "name": "ipython",
    "version": 3
   },
   "file_extension": ".py",
   "mimetype": "text/x-python",
   "name": "python",
   "nbconvert_exporter": "python",
   "pygments_lexer": "ipython3",
   "version": "3.9.6"
  },
  "orig_nbformat": 4,
  "vscode": {
   "interpreter": {
    "hash": "31f2aee4e71d21fbe5cf8b01ff0e069b9275f58929596ceb00d14d90e3e16cd6"
   }
  }
 },
 "nbformat": 4,
 "nbformat_minor": 2
}
